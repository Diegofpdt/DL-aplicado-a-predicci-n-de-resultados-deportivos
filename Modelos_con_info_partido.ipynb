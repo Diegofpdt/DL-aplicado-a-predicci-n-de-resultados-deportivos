{
 "cells": [
  {
   "cell_type": "code",
   "execution_count": 117,
   "metadata": {},
   "outputs": [],
   "source": [
    "import os\n",
    "import pandas as pd\n",
    "import numpy as np\n",
    "import matplotlib.pyplot as plt\n",
    "import itertools\n",
    "from sklearn import preprocessing\n",
    "from sklearn.model_selection import train_test_split\n",
    "from sklearn.metrics import classification_report, confusion_matrix, accuracy_score"
   ]
  },
  {
   "cell_type": "code",
   "execution_count": 92,
   "metadata": {},
   "outputs": [],
   "source": [
    "folder = \"Data\"\n",
    "match_file = \"estadisticas_partidos.csv\"\n",
    "\n",
    "path_matches = os.path.join(folder, match_file)\n",
    "matches = pd.read_csv(path_matches)"
   ]
  },
  {
   "cell_type": "code",
   "execution_count": 93,
   "metadata": {},
   "outputs": [
    {
     "name": "stdout",
     "output_type": "stream",
     "text": [
      "['team_home' 'team_away' 'score_home' 'score_away' 'expected_goals_home'\n",
      " 'expected_goals_away' 'posession_home' 'posession_away'\n",
      " 'total_shots_home' 'total_shots_away' 'shots_on_target_home'\n",
      " 'shots_on_target_away' 'shots_off_target_home' 'shots_off_target_away'\n",
      " 'blocked_shots_home' 'blocked_shots_away' 'corner_kicks_home'\n",
      " 'corner_kicks_away' 'offsides_home' 'offsides_away' 'fouls_home'\n",
      " 'fouls_away' 'yellow_cards_home' 'yellow_cards_away' 'red_cards_home'\n",
      " 'red_cards_away' 'free_kicks_home' 'free_kicks_away' 'throw_ins_home'\n",
      " 'throw_ins_away' 'goal_kicks_home' 'goal_kicks_away'\n",
      " 'shots_inside_box_home' 'shots_inside_box_away' 'shots_outside_box_home'\n",
      " 'shots_outside_box_away' 'goalkeeper_saves_home' 'goalkeeper_saves_away'\n",
      " 'passes_home' 'passes_away' 'accurate_passes_home' 'accurate_passes_away'\n",
      " 'long_balls_home' 'long_balls_away' 'crosses_home' 'crosses_away'\n",
      " 'dribbles_home' 'dribbles_away' 'possesion_lost_home'\n",
      " 'possesion_lost_away' 'duels_won_home' 'duels_won_away'\n",
      " 'aerials_won_home' 'aerials_won_away' 'tackles_home' 'tackles_away'\n",
      " 'interceptions_home' 'interceptions_away' 'clearences_home'\n",
      " 'clearences_away']\n",
      "60\n"
     ]
    }
   ],
   "source": [
    "print(matches.columns.values)\n",
    "print(len(matches.columns.values))"
   ]
  },
  {
   "cell_type": "code",
   "execution_count": 94,
   "metadata": {},
   "outputs": [
    {
     "name": "stdout",
     "output_type": "stream",
     "text": [
      "<class 'pandas.core.frame.DataFrame'>\n",
      "RangeIndex: 240 entries, 0 to 239\n",
      "Data columns (total 60 columns):\n",
      " #   Column                  Non-Null Count  Dtype  \n",
      "---  ------                  --------------  -----  \n",
      " 0   team_home               240 non-null    object \n",
      " 1   team_away               240 non-null    object \n",
      " 2   score_home              240 non-null    int64  \n",
      " 3   score_away              240 non-null    int64  \n",
      " 4   expected_goals_home     240 non-null    float64\n",
      " 5   expected_goals_away     240 non-null    float64\n",
      " 6   posession_home          240 non-null    int64  \n",
      " 7   posession_away          240 non-null    int64  \n",
      " 8   total_shots_home        240 non-null    int64  \n",
      " 9   total_shots_away        240 non-null    int64  \n",
      " 10  shots_on_target_home    240 non-null    int64  \n",
      " 11  shots_on_target_away    240 non-null    int64  \n",
      " 12  shots_off_target_home   240 non-null    int64  \n",
      " 13  shots_off_target_away   240 non-null    int64  \n",
      " 14  blocked_shots_home      240 non-null    int64  \n",
      " 15  blocked_shots_away      240 non-null    int64  \n",
      " 16  corner_kicks_home       240 non-null    int64  \n",
      " 17  corner_kicks_away       240 non-null    int64  \n",
      " 18  offsides_home           240 non-null    int64  \n",
      " 19  offsides_away           240 non-null    int64  \n",
      " 20  fouls_home              240 non-null    int64  \n",
      " 21  fouls_away              240 non-null    int64  \n",
      " 22  yellow_cards_home       240 non-null    int64  \n",
      " 23  yellow_cards_away       240 non-null    int64  \n",
      " 24  red_cards_home          240 non-null    int64  \n",
      " 25  red_cards_away          240 non-null    int64  \n",
      " 26  free_kicks_home         240 non-null    int64  \n",
      " 27  free_kicks_away         240 non-null    int64  \n",
      " 28  throw_ins_home          240 non-null    int64  \n",
      " 29  throw_ins_away          240 non-null    int64  \n",
      " 30  goal_kicks_home         240 non-null    int64  \n",
      " 31  goal_kicks_away         240 non-null    int64  \n",
      " 32  shots_inside_box_home   240 non-null    int64  \n",
      " 33  shots_inside_box_away   240 non-null    int64  \n",
      " 34  shots_outside_box_home  240 non-null    int64  \n",
      " 35  shots_outside_box_away  240 non-null    int64  \n",
      " 36  goalkeeper_saves_home   240 non-null    int64  \n",
      " 37  goalkeeper_saves_away   240 non-null    int64  \n",
      " 38  passes_home             240 non-null    int64  \n",
      " 39  passes_away             240 non-null    int64  \n",
      " 40  accurate_passes_home    240 non-null    int64  \n",
      " 41  accurate_passes_away    240 non-null    int64  \n",
      " 42  long_balls_home         240 non-null    int64  \n",
      " 43  long_balls_away         240 non-null    int64  \n",
      " 44  crosses_home            240 non-null    int64  \n",
      " 45  crosses_away            240 non-null    int64  \n",
      " 46  dribbles_home           240 non-null    int64  \n",
      " 47  dribbles_away           240 non-null    int64  \n",
      " 48  possesion_lost_home     240 non-null    int64  \n",
      " 49  possesion_lost_away     240 non-null    int64  \n",
      " 50  duels_won_home          240 non-null    int64  \n",
      " 51  duels_won_away          240 non-null    int64  \n",
      " 52  aerials_won_home        240 non-null    int64  \n",
      " 53  aerials_won_away        240 non-null    int64  \n",
      " 54  tackles_home            240 non-null    int64  \n",
      " 55  tackles_away            240 non-null    int64  \n",
      " 56  interceptions_home      240 non-null    int64  \n",
      " 57  interceptions_away      240 non-null    int64  \n",
      " 58  clearences_home         240 non-null    int64  \n",
      " 59  clearences_away         240 non-null    int64  \n",
      "dtypes: float64(2), int64(56), object(2)\n",
      "memory usage: 112.6+ KB\n"
     ]
    }
   ],
   "source": [
    "matches.info(verbose=True)"
   ]
  },
  {
   "cell_type": "markdown",
   "metadata": {},
   "source": [
    "Hay que agregar la columna de etiqueta, empatan 0; gana equipo local 1, gana equipo visita 2"
   ]
  },
  {
   "cell_type": "code",
   "execution_count": 95,
   "metadata": {},
   "outputs": [],
   "source": [
    "results = []\n",
    "\n",
    "for index in matches.index:\n",
    "\n",
    "    match = matches.loc[index]\n",
    "    if match[\"score_home\"] > match[\"score_away\"]:\n",
    "        results.append(1)\n",
    "    elif match[\"score_home\"] < match[\"score_away\"]:\n",
    "        results.append(2)\n",
    "    else:\n",
    "        results.append(0)\n",
    "\n",
    "matches[\"result\"] = results\n"
   ]
  },
  {
   "cell_type": "code",
   "execution_count": 96,
   "metadata": {},
   "outputs": [
    {
     "data": {
      "text/html": [
       "<div>\n",
       "<style scoped>\n",
       "    .dataframe tbody tr th:only-of-type {\n",
       "        vertical-align: middle;\n",
       "    }\n",
       "\n",
       "    .dataframe tbody tr th {\n",
       "        vertical-align: top;\n",
       "    }\n",
       "\n",
       "    .dataframe thead th {\n",
       "        text-align: right;\n",
       "    }\n",
       "</style>\n",
       "<table border=\"1\" class=\"dataframe\">\n",
       "  <thead>\n",
       "    <tr style=\"text-align: right;\">\n",
       "      <th></th>\n",
       "      <th>team_home</th>\n",
       "      <th>team_away</th>\n",
       "      <th>score_home</th>\n",
       "      <th>score_away</th>\n",
       "      <th>expected_goals_home</th>\n",
       "      <th>expected_goals_away</th>\n",
       "      <th>posession_home</th>\n",
       "      <th>posession_away</th>\n",
       "      <th>total_shots_home</th>\n",
       "      <th>total_shots_away</th>\n",
       "      <th>...</th>\n",
       "      <th>duels_won_away</th>\n",
       "      <th>aerials_won_home</th>\n",
       "      <th>aerials_won_away</th>\n",
       "      <th>tackles_home</th>\n",
       "      <th>tackles_away</th>\n",
       "      <th>interceptions_home</th>\n",
       "      <th>interceptions_away</th>\n",
       "      <th>clearences_home</th>\n",
       "      <th>clearences_away</th>\n",
       "      <th>result</th>\n",
       "    </tr>\n",
       "  </thead>\n",
       "  <tbody>\n",
       "    <tr>\n",
       "      <th>0</th>\n",
       "      <td>Curicó Unido</td>\n",
       "      <td>Colo Colo</td>\n",
       "      <td>0</td>\n",
       "      <td>1</td>\n",
       "      <td>0.07</td>\n",
       "      <td>2.31</td>\n",
       "      <td>32</td>\n",
       "      <td>68</td>\n",
       "      <td>5</td>\n",
       "      <td>20</td>\n",
       "      <td>...</td>\n",
       "      <td>33</td>\n",
       "      <td>4</td>\n",
       "      <td>11</td>\n",
       "      <td>11</td>\n",
       "      <td>8</td>\n",
       "      <td>5</td>\n",
       "      <td>8</td>\n",
       "      <td>23</td>\n",
       "      <td>8</td>\n",
       "      <td>2</td>\n",
       "    </tr>\n",
       "    <tr>\n",
       "      <th>1</th>\n",
       "      <td>Huachipato</td>\n",
       "      <td>Audax Italiano</td>\n",
       "      <td>2</td>\n",
       "      <td>0</td>\n",
       "      <td>1.34</td>\n",
       "      <td>0.45</td>\n",
       "      <td>64</td>\n",
       "      <td>36</td>\n",
       "      <td>12</td>\n",
       "      <td>13</td>\n",
       "      <td>...</td>\n",
       "      <td>35</td>\n",
       "      <td>13</td>\n",
       "      <td>9</td>\n",
       "      <td>12</td>\n",
       "      <td>12</td>\n",
       "      <td>7</td>\n",
       "      <td>4</td>\n",
       "      <td>19</td>\n",
       "      <td>28</td>\n",
       "      <td>1</td>\n",
       "    </tr>\n",
       "    <tr>\n",
       "      <th>2</th>\n",
       "      <td>Unión Española</td>\n",
       "      <td>Cobresal</td>\n",
       "      <td>1</td>\n",
       "      <td>0</td>\n",
       "      <td>1.09</td>\n",
       "      <td>0.54</td>\n",
       "      <td>65</td>\n",
       "      <td>35</td>\n",
       "      <td>26</td>\n",
       "      <td>9</td>\n",
       "      <td>...</td>\n",
       "      <td>66</td>\n",
       "      <td>18</td>\n",
       "      <td>14</td>\n",
       "      <td>18</td>\n",
       "      <td>19</td>\n",
       "      <td>3</td>\n",
       "      <td>11</td>\n",
       "      <td>24</td>\n",
       "      <td>24</td>\n",
       "      <td>1</td>\n",
       "    </tr>\n",
       "    <tr>\n",
       "      <th>3</th>\n",
       "      <td>Deportes Copiapó</td>\n",
       "      <td>Everton de Viña del Mar</td>\n",
       "      <td>2</td>\n",
       "      <td>0</td>\n",
       "      <td>1.21</td>\n",
       "      <td>0.59</td>\n",
       "      <td>36</td>\n",
       "      <td>64</td>\n",
       "      <td>10</td>\n",
       "      <td>12</td>\n",
       "      <td>...</td>\n",
       "      <td>35</td>\n",
       "      <td>11</td>\n",
       "      <td>9</td>\n",
       "      <td>13</td>\n",
       "      <td>9</td>\n",
       "      <td>7</td>\n",
       "      <td>2</td>\n",
       "      <td>28</td>\n",
       "      <td>13</td>\n",
       "      <td>1</td>\n",
       "    </tr>\n",
       "    <tr>\n",
       "      <th>4</th>\n",
       "      <td>Deportes Magallanes</td>\n",
       "      <td>Coquimbo Unido</td>\n",
       "      <td>2</td>\n",
       "      <td>3</td>\n",
       "      <td>1.62</td>\n",
       "      <td>1.82</td>\n",
       "      <td>57</td>\n",
       "      <td>43</td>\n",
       "      <td>13</td>\n",
       "      <td>15</td>\n",
       "      <td>...</td>\n",
       "      <td>32</td>\n",
       "      <td>9</td>\n",
       "      <td>11</td>\n",
       "      <td>10</td>\n",
       "      <td>6</td>\n",
       "      <td>5</td>\n",
       "      <td>1</td>\n",
       "      <td>16</td>\n",
       "      <td>20</td>\n",
       "      <td>2</td>\n",
       "    </tr>\n",
       "  </tbody>\n",
       "</table>\n",
       "<p>5 rows × 61 columns</p>\n",
       "</div>"
      ],
      "text/plain": [
       "             team_home                team_away  score_home  score_away  \\\n",
       "0         Curicó Unido                Colo Colo           0           1   \n",
       "1           Huachipato           Audax Italiano           2           0   \n",
       "2       Unión Española                 Cobresal           1           0   \n",
       "3     Deportes Copiapó  Everton de Viña del Mar           2           0   \n",
       "4  Deportes Magallanes           Coquimbo Unido           2           3   \n",
       "\n",
       "   expected_goals_home  expected_goals_away  posession_home  posession_away  \\\n",
       "0                 0.07                 2.31              32              68   \n",
       "1                 1.34                 0.45              64              36   \n",
       "2                 1.09                 0.54              65              35   \n",
       "3                 1.21                 0.59              36              64   \n",
       "4                 1.62                 1.82              57              43   \n",
       "\n",
       "   total_shots_home  total_shots_away  ...  duels_won_away  aerials_won_home  \\\n",
       "0                 5                20  ...              33                 4   \n",
       "1                12                13  ...              35                13   \n",
       "2                26                 9  ...              66                18   \n",
       "3                10                12  ...              35                11   \n",
       "4                13                15  ...              32                 9   \n",
       "\n",
       "   aerials_won_away  tackles_home  tackles_away  interceptions_home  \\\n",
       "0                11            11             8                   5   \n",
       "1                 9            12            12                   7   \n",
       "2                14            18            19                   3   \n",
       "3                 9            13             9                   7   \n",
       "4                11            10             6                   5   \n",
       "\n",
       "   interceptions_away  clearences_home  clearences_away  result  \n",
       "0                   8               23                8       2  \n",
       "1                   4               19               28       1  \n",
       "2                  11               24               24       1  \n",
       "3                   2               28               13       1  \n",
       "4                   1               16               20       2  \n",
       "\n",
       "[5 rows x 61 columns]"
      ]
     },
     "execution_count": 96,
     "metadata": {},
     "output_type": "execute_result"
    }
   ],
   "source": [
    "matches.head()"
   ]
  },
  {
   "cell_type": "code",
   "execution_count": 97,
   "metadata": {},
   "outputs": [
    {
     "name": "stdout",
     "output_type": "stream",
     "text": [
      "<class 'pandas.core.frame.DataFrame'>\n",
      "RangeIndex: 240 entries, 0 to 239\n",
      "Data columns (total 61 columns):\n",
      " #   Column                  Non-Null Count  Dtype  \n",
      "---  ------                  --------------  -----  \n",
      " 0   team_home               240 non-null    object \n",
      " 1   team_away               240 non-null    object \n",
      " 2   score_home              240 non-null    int64  \n",
      " 3   score_away              240 non-null    int64  \n",
      " 4   expected_goals_home     240 non-null    float64\n",
      " 5   expected_goals_away     240 non-null    float64\n",
      " 6   posession_home          240 non-null    int64  \n",
      " 7   posession_away          240 non-null    int64  \n",
      " 8   total_shots_home        240 non-null    int64  \n",
      " 9   total_shots_away        240 non-null    int64  \n",
      " 10  shots_on_target_home    240 non-null    int64  \n",
      " 11  shots_on_target_away    240 non-null    int64  \n",
      " 12  shots_off_target_home   240 non-null    int64  \n",
      " 13  shots_off_target_away   240 non-null    int64  \n",
      " 14  blocked_shots_home      240 non-null    int64  \n",
      " 15  blocked_shots_away      240 non-null    int64  \n",
      " 16  corner_kicks_home       240 non-null    int64  \n",
      " 17  corner_kicks_away       240 non-null    int64  \n",
      " 18  offsides_home           240 non-null    int64  \n",
      " 19  offsides_away           240 non-null    int64  \n",
      " 20  fouls_home              240 non-null    int64  \n",
      " 21  fouls_away              240 non-null    int64  \n",
      " 22  yellow_cards_home       240 non-null    int64  \n",
      " 23  yellow_cards_away       240 non-null    int64  \n",
      " 24  red_cards_home          240 non-null    int64  \n",
      " 25  red_cards_away          240 non-null    int64  \n",
      " 26  free_kicks_home         240 non-null    int64  \n",
      " 27  free_kicks_away         240 non-null    int64  \n",
      " 28  throw_ins_home          240 non-null    int64  \n",
      " 29  throw_ins_away          240 non-null    int64  \n",
      " 30  goal_kicks_home         240 non-null    int64  \n",
      " 31  goal_kicks_away         240 non-null    int64  \n",
      " 32  shots_inside_box_home   240 non-null    int64  \n",
      " 33  shots_inside_box_away   240 non-null    int64  \n",
      " 34  shots_outside_box_home  240 non-null    int64  \n",
      " 35  shots_outside_box_away  240 non-null    int64  \n",
      " 36  goalkeeper_saves_home   240 non-null    int64  \n",
      " 37  goalkeeper_saves_away   240 non-null    int64  \n",
      " 38  passes_home             240 non-null    int64  \n",
      " 39  passes_away             240 non-null    int64  \n",
      " 40  accurate_passes_home    240 non-null    int64  \n",
      " 41  accurate_passes_away    240 non-null    int64  \n",
      " 42  long_balls_home         240 non-null    int64  \n",
      " 43  long_balls_away         240 non-null    int64  \n",
      " 44  crosses_home            240 non-null    int64  \n",
      " 45  crosses_away            240 non-null    int64  \n",
      " 46  dribbles_home           240 non-null    int64  \n",
      " 47  dribbles_away           240 non-null    int64  \n",
      " 48  possesion_lost_home     240 non-null    int64  \n",
      " 49  possesion_lost_away     240 non-null    int64  \n",
      " 50  duels_won_home          240 non-null    int64  \n",
      " 51  duels_won_away          240 non-null    int64  \n",
      " 52  aerials_won_home        240 non-null    int64  \n",
      " 53  aerials_won_away        240 non-null    int64  \n",
      " 54  tackles_home            240 non-null    int64  \n",
      " 55  tackles_away            240 non-null    int64  \n",
      " 56  interceptions_home      240 non-null    int64  \n",
      " 57  interceptions_away      240 non-null    int64  \n",
      " 58  clearences_home         240 non-null    int64  \n",
      " 59  clearences_away         240 non-null    int64  \n",
      " 60  result                  240 non-null    int64  \n",
      "dtypes: float64(2), int64(57), object(2)\n",
      "memory usage: 114.5+ KB\n"
     ]
    }
   ],
   "source": [
    "matches.info(verbose=True)"
   ]
  },
  {
   "cell_type": "markdown",
   "metadata": {},
   "source": [
    "Preparación de data para modelo"
   ]
  },
  {
   "cell_type": "code",
   "execution_count": 98,
   "metadata": {},
   "outputs": [
    {
     "name": "stdout",
     "output_type": "stream",
     "text": [
      "Resultado 0, hay: 59 partidos\n",
      "Resultado 1, hay: 97 partidos\n",
      "Resultado 2, hay: 84 partidos\n"
     ]
    }
   ],
   "source": [
    "for i in range(0,3):\n",
    "    cantidad = matches[matches[\"result\"]==i].shape[0]\n",
    "    print(f\"Resultado {i}, hay: {cantidad} partidos\")"
   ]
  },
  {
   "cell_type": "code",
   "execution_count": 99,
   "metadata": {},
   "outputs": [
    {
     "data": {
      "text/html": [
       "<div>\n",
       "<style scoped>\n",
       "    .dataframe tbody tr th:only-of-type {\n",
       "        vertical-align: middle;\n",
       "    }\n",
       "\n",
       "    .dataframe tbody tr th {\n",
       "        vertical-align: top;\n",
       "    }\n",
       "\n",
       "    .dataframe thead th {\n",
       "        text-align: right;\n",
       "    }\n",
       "</style>\n",
       "<table border=\"1\" class=\"dataframe\">\n",
       "  <thead>\n",
       "    <tr style=\"text-align: right;\">\n",
       "      <th></th>\n",
       "      <th>expected_goals_home</th>\n",
       "      <th>expected_goals_away</th>\n",
       "      <th>posession_home</th>\n",
       "      <th>posession_away</th>\n",
       "      <th>total_shots_home</th>\n",
       "      <th>total_shots_away</th>\n",
       "      <th>shots_on_target_home</th>\n",
       "      <th>shots_on_target_away</th>\n",
       "      <th>shots_off_target_home</th>\n",
       "      <th>shots_off_target_away</th>\n",
       "      <th>...</th>\n",
       "      <th>duels_won_home</th>\n",
       "      <th>duels_won_away</th>\n",
       "      <th>aerials_won_home</th>\n",
       "      <th>aerials_won_away</th>\n",
       "      <th>tackles_home</th>\n",
       "      <th>tackles_away</th>\n",
       "      <th>interceptions_home</th>\n",
       "      <th>interceptions_away</th>\n",
       "      <th>clearences_home</th>\n",
       "      <th>clearences_away</th>\n",
       "    </tr>\n",
       "  </thead>\n",
       "  <tbody>\n",
       "    <tr>\n",
       "      <th>0</th>\n",
       "      <td>0.07</td>\n",
       "      <td>2.31</td>\n",
       "      <td>32</td>\n",
       "      <td>68</td>\n",
       "      <td>5</td>\n",
       "      <td>20</td>\n",
       "      <td>1</td>\n",
       "      <td>8</td>\n",
       "      <td>4</td>\n",
       "      <td>5</td>\n",
       "      <td>...</td>\n",
       "      <td>29</td>\n",
       "      <td>33</td>\n",
       "      <td>4</td>\n",
       "      <td>11</td>\n",
       "      <td>11</td>\n",
       "      <td>8</td>\n",
       "      <td>5</td>\n",
       "      <td>8</td>\n",
       "      <td>23</td>\n",
       "      <td>8</td>\n",
       "    </tr>\n",
       "    <tr>\n",
       "      <th>1</th>\n",
       "      <td>1.34</td>\n",
       "      <td>0.45</td>\n",
       "      <td>64</td>\n",
       "      <td>36</td>\n",
       "      <td>12</td>\n",
       "      <td>13</td>\n",
       "      <td>5</td>\n",
       "      <td>4</td>\n",
       "      <td>4</td>\n",
       "      <td>6</td>\n",
       "      <td>...</td>\n",
       "      <td>45</td>\n",
       "      <td>35</td>\n",
       "      <td>13</td>\n",
       "      <td>9</td>\n",
       "      <td>12</td>\n",
       "      <td>12</td>\n",
       "      <td>7</td>\n",
       "      <td>4</td>\n",
       "      <td>19</td>\n",
       "      <td>28</td>\n",
       "    </tr>\n",
       "    <tr>\n",
       "      <th>2</th>\n",
       "      <td>1.09</td>\n",
       "      <td>0.54</td>\n",
       "      <td>65</td>\n",
       "      <td>35</td>\n",
       "      <td>26</td>\n",
       "      <td>9</td>\n",
       "      <td>7</td>\n",
       "      <td>2</td>\n",
       "      <td>10</td>\n",
       "      <td>5</td>\n",
       "      <td>...</td>\n",
       "      <td>59</td>\n",
       "      <td>66</td>\n",
       "      <td>18</td>\n",
       "      <td>14</td>\n",
       "      <td>18</td>\n",
       "      <td>19</td>\n",
       "      <td>3</td>\n",
       "      <td>11</td>\n",
       "      <td>24</td>\n",
       "      <td>24</td>\n",
       "    </tr>\n",
       "    <tr>\n",
       "      <th>3</th>\n",
       "      <td>1.21</td>\n",
       "      <td>0.59</td>\n",
       "      <td>36</td>\n",
       "      <td>64</td>\n",
       "      <td>10</td>\n",
       "      <td>12</td>\n",
       "      <td>4</td>\n",
       "      <td>2</td>\n",
       "      <td>6</td>\n",
       "      <td>5</td>\n",
       "      <td>...</td>\n",
       "      <td>35</td>\n",
       "      <td>35</td>\n",
       "      <td>11</td>\n",
       "      <td>9</td>\n",
       "      <td>13</td>\n",
       "      <td>9</td>\n",
       "      <td>7</td>\n",
       "      <td>2</td>\n",
       "      <td>28</td>\n",
       "      <td>13</td>\n",
       "    </tr>\n",
       "    <tr>\n",
       "      <th>4</th>\n",
       "      <td>1.62</td>\n",
       "      <td>1.82</td>\n",
       "      <td>57</td>\n",
       "      <td>43</td>\n",
       "      <td>13</td>\n",
       "      <td>15</td>\n",
       "      <td>4</td>\n",
       "      <td>7</td>\n",
       "      <td>3</td>\n",
       "      <td>8</td>\n",
       "      <td>...</td>\n",
       "      <td>34</td>\n",
       "      <td>32</td>\n",
       "      <td>9</td>\n",
       "      <td>11</td>\n",
       "      <td>10</td>\n",
       "      <td>6</td>\n",
       "      <td>5</td>\n",
       "      <td>1</td>\n",
       "      <td>16</td>\n",
       "      <td>20</td>\n",
       "    </tr>\n",
       "  </tbody>\n",
       "</table>\n",
       "<p>5 rows × 56 columns</p>\n",
       "</div>"
      ],
      "text/plain": [
       "   expected_goals_home  expected_goals_away  posession_home  posession_away  \\\n",
       "0                 0.07                 2.31              32              68   \n",
       "1                 1.34                 0.45              64              36   \n",
       "2                 1.09                 0.54              65              35   \n",
       "3                 1.21                 0.59              36              64   \n",
       "4                 1.62                 1.82              57              43   \n",
       "\n",
       "   total_shots_home  total_shots_away  shots_on_target_home  \\\n",
       "0                 5                20                     1   \n",
       "1                12                13                     5   \n",
       "2                26                 9                     7   \n",
       "3                10                12                     4   \n",
       "4                13                15                     4   \n",
       "\n",
       "   shots_on_target_away  shots_off_target_home  shots_off_target_away  ...  \\\n",
       "0                     8                      4                      5  ...   \n",
       "1                     4                      4                      6  ...   \n",
       "2                     2                     10                      5  ...   \n",
       "3                     2                      6                      5  ...   \n",
       "4                     7                      3                      8  ...   \n",
       "\n",
       "   duels_won_home  duels_won_away  aerials_won_home  aerials_won_away  \\\n",
       "0              29              33                 4                11   \n",
       "1              45              35                13                 9   \n",
       "2              59              66                18                14   \n",
       "3              35              35                11                 9   \n",
       "4              34              32                 9                11   \n",
       "\n",
       "   tackles_home  tackles_away  interceptions_home  interceptions_away  \\\n",
       "0            11             8                   5                   8   \n",
       "1            12            12                   7                   4   \n",
       "2            18            19                   3                  11   \n",
       "3            13             9                   7                   2   \n",
       "4            10             6                   5                   1   \n",
       "\n",
       "   clearences_home  clearences_away  \n",
       "0               23                8  \n",
       "1               19               28  \n",
       "2               24               24  \n",
       "3               28               13  \n",
       "4               16               20  \n",
       "\n",
       "[5 rows x 56 columns]"
      ]
     },
     "execution_count": 99,
     "metadata": {},
     "output_type": "execute_result"
    }
   ],
   "source": [
    "result = matches[\"result\"]\n",
    "matches = matches.drop(columns = [\"team_home\", \"team_away\", \"result\", \"score_home\", \"score_away\"])\n",
    "matches.head()"
   ]
  },
  {
   "cell_type": "code",
   "execution_count": 100,
   "metadata": {},
   "outputs": [],
   "source": [
    "X = matches.to_numpy()\n",
    "scaler = preprocessing.MinMaxScaler()\n",
    "X_escalados = scaler.fit_transform(X)\n",
    "y = result"
   ]
  },
  {
   "cell_type": "code",
   "execution_count": 101,
   "metadata": {},
   "outputs": [
    {
     "data": {
      "text/plain": [
       "array([2, 1, 0], dtype=int64)"
      ]
     },
     "execution_count": 101,
     "metadata": {},
     "output_type": "execute_result"
    }
   ],
   "source": [
    "y.unique()"
   ]
  },
  {
   "cell_type": "code",
   "execution_count": 102,
   "metadata": {},
   "outputs": [],
   "source": [
    "X_train, X_test, y_train, y_test = train_test_split(X_escalados, y, test_size=0.3, random_state = 1)"
   ]
  },
  {
   "cell_type": "markdown",
   "metadata": {},
   "source": [
    "# Modelo 1: Regresión Logística"
   ]
  },
  {
   "cell_type": "code",
   "execution_count": 103,
   "metadata": {},
   "outputs": [
    {
     "name": "stdout",
     "output_type": "stream",
     "text": [
      "Clasification report\n",
      "              precision    recall  f1-score   support\n",
      "\n",
      "           0       0.57      0.18      0.28        22\n",
      "           1       0.58      0.96      0.72        23\n",
      "           2       0.70      0.70      0.70        27\n",
      "\n",
      "    accuracy                           0.62        72\n",
      "   macro avg       0.62      0.61      0.57        72\n",
      "weighted avg       0.62      0.62      0.58        72\n",
      "\n"
     ]
    }
   ],
   "source": [
    "from sklearn.linear_model import LogisticRegression\n",
    "\n",
    "logistic_reg = LogisticRegression(max_iter = 1000)\n",
    "logistic_reg.fit(X_train, y_train)\n",
    "\n",
    "predicted_logistic_reg = logistic_reg.predict(X_test)\n",
    "print(\"Clasification report\")\n",
    "print(classification_report(y_test, predicted_logistic_reg))"
   ]
  },
  {
   "cell_type": "code",
   "execution_count": 111,
   "metadata": {},
   "outputs": [],
   "source": [
    "def plot_confusion_matrix(cm, classes,\n",
    "                          normalize=False,\n",
    "                          title='Confusion matrix',\n",
    "                          cmap=plt.cm.Blues):\n",
    "    \"\"\"\n",
    "    This function prints and plots the confusion matrix.\n",
    "    Normalization can be applied by setting `normalize=True`.\n",
    "    \"\"\"\n",
    "    if normalize:\n",
    "        cm = cm.astype('float') / cm.sum(axis=1)[:, np.newaxis]\n",
    "        print(\"Normalized confusion matrix\")\n",
    "    else:\n",
    "        print('Confusion matrix, without normalization')\n",
    "\n",
    "\n",
    "    plt.imshow(cm, interpolation='nearest', cmap=cmap)\n",
    "    plt.title(title)\n",
    "    plt.colorbar()\n",
    "    tick_marks = np.arange(len(classes))\n",
    "    plt.xticks(tick_marks, classes, rotation=90)\n",
    "    plt.yticks(tick_marks, classes)\n",
    "\n",
    "    fmt = '.2f' if normalize else 'd'\n",
    "    thresh = cm.max() / 2.\n",
    "    for i, j in itertools.product(range(cm.shape[0]), range(cm.shape[1])):\n",
    "        plt.text(j, i, format(cm[i, j], fmt),\n",
    "                 horizontalalignment=\"center\",\n",
    "                 color=\"white\" if cm[i, j] > thresh else \"black\")\n",
    "\n",
    "    plt.tight_layout()\n",
    "    plt.ylabel('True label')\n",
    "    plt.xlabel('Predicted label')"
   ]
  },
  {
   "cell_type": "code",
   "execution_count": 114,
   "metadata": {},
   "outputs": [
    {
     "name": "stdout",
     "output_type": "stream",
     "text": [
      "Normalized confusion matrix\n"
     ]
    },
    {
     "data": {
      "image/png": "[encoded data removed]",
      "text/plain": [
       "<Figure size 360x360 with 2 Axes>"
      ]
     },
     "metadata": {
      "needs_background": "light"
     },
     "output_type": "display_data"
    }
   ],
   "source": [
    "cnf_matrix = confusion_matrix(y_test, predicted_logistic_reg)\n",
    "np.set_printoptions(precision=2)\n",
    "classes = np.unique(y)\n",
    "# Plot normalized confusion matrix\n",
    "plt.figure(figsize=(5,5))\n",
    "plot_confusion_matrix(cnf_matrix, classes=classes, normalize=True, title='Normalized confusion matrix')\n",
    "\n",
    "plt.show()"
   ]
  },
  {
   "cell_type": "markdown",
   "metadata": {},
   "source": [
    "# Modelo 2: SVM"
   ]
  },
  {
   "cell_type": "code",
   "execution_count": 115,
   "metadata": {},
   "outputs": [
    {
     "name": "stdout",
     "output_type": "stream",
     "text": [
      "Clasification report\n",
      "              precision    recall  f1-score   support\n",
      "\n",
      "           0       0.33      0.05      0.08        22\n",
      "           1       0.51      1.00      0.68        23\n",
      "           2       0.71      0.63      0.67        27\n",
      "\n",
      "    accuracy                           0.57        72\n",
      "   macro avg       0.52      0.56      0.47        72\n",
      "weighted avg       0.53      0.57      0.49        72\n",
      "\n"
     ]
    }
   ],
   "source": [
    "from sklearn.svm import SVC\n",
    "\n",
    "svm = SVC()\n",
    "\n",
    "svm.fit(X_train, y_train)\n",
    "\n",
    "predicted_svm = svm.predict(X_test)\n",
    "print(\"Clasification report\")\n",
    "print(classification_report(y_test, predicted_svm))"
   ]
  },
  {
   "cell_type": "code",
   "execution_count": 116,
   "metadata": {},
   "outputs": [
    {
     "name": "stdout",
     "output_type": "stream",
     "text": [
      "Normalized confusion matrix\n"
     ]
    },
    {
     "data": {
      "image/png": "[encoded data removed]",
      "text/plain": [
       "<Figure size 360x360 with 2 Axes>"
      ]
     },
     "metadata": {
      "needs_background": "light"
     },
     "output_type": "display_data"
    }
   ],
   "source": [
    "cnf_matrix = confusion_matrix(y_test, predicted_svm)\n",
    "np.set_printoptions(precision=2)\n",
    "# Plot normalized confusion matrix\n",
    "plt.figure(figsize=(5,5))\n",
    "plot_confusion_matrix(cnf_matrix, classes=classes, normalize=True, title='Normalized confusion matrix')\n",
    "\n",
    "plt.show()"
   ]
  },
  {
   "cell_type": "markdown",
   "metadata": {},
   "source": [
    "# Modelo 3: Random Forest"
   ]
  },
  {
   "cell_type": "code",
   "execution_count": 118,
   "metadata": {},
   "outputs": [
    {
     "name": "stdout",
     "output_type": "stream",
     "text": [
      "For min_samples_split = 50 and t = 50 The accuracy is : 0.4722222222222222\n",
      "For min_samples_split = 50 and t = 100 The accuracy is : 0.4583333333333333\n",
      "For min_samples_split = 50 and t = 200 The accuracy is : 0.4722222222222222\n",
      "For min_samples_split = 50 and t = 500 The accuracy is : 0.4722222222222222\n",
      "For min_samples_split = 50 and t = 1000 The accuracy is : 0.4722222222222222\n",
      "For min_samples_split = 20 and t = 50 The accuracy is : 0.4861111111111111\n",
      "For min_samples_split = 20 and t = 100 The accuracy is : 0.4861111111111111\n",
      "For min_samples_split = 20 and t = 200 The accuracy is : 0.4583333333333333\n",
      "For min_samples_split = 20 and t = 500 The accuracy is : 0.4722222222222222\n",
      "For min_samples_split = 20 and t = 1000 The accuracy is : 0.4722222222222222\n",
      "For min_samples_split = 10 and t = 50 The accuracy is : 0.5\n",
      "For min_samples_split = 10 and t = 100 The accuracy is : 0.5277777777777778\n",
      "For min_samples_split = 10 and t = 200 The accuracy is : 0.5138888888888888\n",
      "For min_samples_split = 10 and t = 500 The accuracy is : 0.5138888888888888\n",
      "For min_samples_split = 10 and t = 1000 The accuracy is : 0.5\n",
      "For min_samples_split = 5 and t = 50 The accuracy is : 0.5416666666666666\n",
      "For min_samples_split = 5 and t = 100 The accuracy is : 0.5416666666666666\n",
      "For min_samples_split = 5 and t = 200 The accuracy is : 0.5277777777777778\n",
      "For min_samples_split = 5 and t = 500 The accuracy is : 0.5138888888888888\n",
      "For min_samples_split = 5 and t = 1000 The accuracy is : 0.5138888888888888\n"
     ]
    }
   ],
   "source": [
    "from sklearn.ensemble import RandomForestClassifier\n",
    "\n",
    "range_T = [50, 100, 200, 500, 1000]\n",
    "\n",
    "\n",
    "for t_ in range_T:\n",
    "    clf = RandomForestClassifier(min_samples_split=50, n_estimators=t_, random_state=0)\n",
    "    clf.fit(X_train, y_train)\n",
    "    y_pred = clf.predict(X_test)\n",
    "    acc = accuracy_score(y_test, y_pred)\n",
    "    print(\n",
    "        \"For min_samples_split = 50 and t =\",\n",
    "        t_,\n",
    "        \"The accuracy is :\",\n",
    "        acc,\n",
    "    )\n",
    "\n",
    "for t_ in range_T:\n",
    "    clf = RandomForestClassifier(min_samples_split=20, n_estimators=t_, random_state=0)\n",
    "    clf.fit(X_train, y_train)\n",
    "    y_pred = clf.predict(X_test)\n",
    "    acc = accuracy_score(y_test, y_pred)\n",
    "    print(\n",
    "        \"For min_samples_split = 20 and t =\",\n",
    "        t_,\n",
    "        \"The accuracy is :\",\n",
    "        acc,\n",
    "    )\n",
    "\n",
    "for t_ in range_T:\n",
    "    clf = RandomForestClassifier(min_samples_split=10, n_estimators=t_, random_state=0)\n",
    "    clf.fit(X_train, y_train)\n",
    "    y_pred = clf.predict(X_test)\n",
    "    acc = accuracy_score(y_test, y_pred)\n",
    "    print(\n",
    "        \"For min_samples_split = 10 and t =\",\n",
    "        t_,\n",
    "        \"The accuracy is :\",\n",
    "        acc,\n",
    "    )\n",
    "\n",
    "\n",
    "for t_ in range_T:\n",
    "    clf = RandomForestClassifier(min_samples_split=5, n_estimators=t_, random_state=0)\n",
    "    clf.fit(X_train, y_train)\n",
    "    y_pred = clf.predict(X_test)\n",
    "    acc = accuracy_score(y_test, y_pred)\n",
    "    print(\n",
    "        \"For min_samples_split = 5 and t =\",\n",
    "        t_,\n",
    "        \"The accuracy is :\",\n",
    "        acc,\n",
    "    )\n"
   ]
  },
  {
   "cell_type": "code",
   "execution_count": 119,
   "metadata": {},
   "outputs": [
    {
     "name": "stdout",
     "output_type": "stream",
     "text": [
      "Clasification report\n",
      "              precision    recall  f1-score   support\n",
      "\n",
      "           0       0.50      0.09      0.15        22\n",
      "           1       0.51      0.91      0.66        23\n",
      "           2       0.59      0.59      0.59        27\n",
      "\n",
      "    accuracy                           0.54        72\n",
      "   macro avg       0.53      0.53      0.47        72\n",
      "weighted avg       0.54      0.54      0.48        72\n",
      "\n"
     ]
    }
   ],
   "source": [
    "rf = RandomForestClassifier(min_samples_split=5, n_estimators=50, random_state=0)\n",
    "\n",
    "rf.fit(X_train, y_train)\n",
    "\n",
    "predicted_rf = rf.predict(X_test)\n",
    "print(\"Clasification report\")\n",
    "print(classification_report(y_test, predicted_rf))"
   ]
  },
  {
   "cell_type": "code",
   "execution_count": 120,
   "metadata": {},
   "outputs": [
    {
     "name": "stdout",
     "output_type": "stream",
     "text": [
      "Normalized confusion matrix\n"
     ]
    },
    {
     "data": {
      "image/png": "[encoded data removed]",
      "text/plain": [
       "<Figure size 360x360 with 2 Axes>"
      ]
     },
     "metadata": {
      "needs_background": "light"
     },
     "output_type": "display_data"
    }
   ],
   "source": [
    "cnf_matrix = confusion_matrix(y_test, predicted_rf)\n",
    "np.set_printoptions(precision=2)\n",
    "# Plot normalized confusion matrix\n",
    "plt.figure(figsize=(5,5))\n",
    "plot_confusion_matrix(cnf_matrix, classes=classes, normalize=True, title='Normalized confusion matrix')\n",
    "\n",
    "plt.show()"
   ]
  },
  {
   "cell_type": "markdown",
   "metadata": {},
   "source": [
    "# Modelo 4: AdaBoost"
   ]
  },
  {
   "cell_type": "code",
   "execution_count": 122,
   "metadata": {},
   "outputs": [
    {
     "name": "stdout",
     "output_type": "stream",
     "text": [
      "For max_depth = 2 and t = 50 The accuracy is : 0.625\n",
      "For max_depth = 2 and t = 100 The accuracy is : 0.6666666666666666\n",
      "For max_depth = 2 and t = 200 The accuracy is : 0.6111111111111112\n",
      "For max_depth = 2 and t = 500 The accuracy is : 0.5972222222222222\n",
      "For max_depth = 2 and t = 1000 The accuracy is : 0.6111111111111112\n",
      "For max_depth = 3 and t = 50 The accuracy is : 0.4166666666666667\n",
      "For max_depth = 3 and t = 100 The accuracy is : 0.4861111111111111\n",
      "For max_depth = 3 and t = 200 The accuracy is : 0.5694444444444444\n",
      "For max_depth = 3 and t = 500 The accuracy is : 0.5972222222222222\n",
      "For max_depth = 3 and t = 1000 The accuracy is : 0.5833333333333334\n",
      "For max_depth = 4 and t = 50 The accuracy is : 0.5416666666666666\n",
      "For max_depth = 4 and t = 100 The accuracy is : 0.5\n",
      "For max_depth = 4 and t = 200 The accuracy is : 0.5694444444444444\n",
      "For max_depth = 4 and t = 500 The accuracy is : 0.5\n",
      "For max_depth = 4 and t = 1000 The accuracy is : 0.5972222222222222\n",
      "For max_depth = 5 and t = 50 The accuracy is : 0.5138888888888888\n",
      "For max_depth = 5 and t = 100 The accuracy is : 0.5138888888888888\n",
      "For max_depth = 5 and t = 200 The accuracy is : 0.5277777777777778\n",
      "For max_depth = 5 and t = 500 The accuracy is : 0.5972222222222222\n",
      "For max_depth = 5 and t = 1000 The accuracy is : 0.5972222222222222\n",
      "For max_depth = 6 and t = 50 The accuracy is : 0.5277777777777778\n",
      "For max_depth = 6 and t = 100 The accuracy is : 0.5277777777777778\n",
      "For max_depth = 6 and t = 200 The accuracy is : 0.5972222222222222\n",
      "For max_depth = 6 and t = 500 The accuracy is : 0.5694444444444444\n",
      "For max_depth = 6 and t = 1000 The accuracy is : 0.5555555555555556\n",
      "For max_depth = 7 and t = 50 The accuracy is : 0.4583333333333333\n",
      "For max_depth = 7 and t = 100 The accuracy is : 0.5416666666666666\n",
      "For max_depth = 7 and t = 200 The accuracy is : 0.5416666666666666\n",
      "For max_depth = 7 and t = 500 The accuracy is : 0.5416666666666666\n",
      "For max_depth = 7 and t = 1000 The accuracy is : 0.5416666666666666\n",
      "For max_depth = 8 and t = 50 The accuracy is : 0.4027777777777778\n",
      "For max_depth = 8 and t = 100 The accuracy is : 0.4027777777777778\n",
      "For max_depth = 8 and t = 200 The accuracy is : 0.4027777777777778\n",
      "For max_depth = 8 and t = 500 The accuracy is : 0.4027777777777778\n",
      "For max_depth = 8 and t = 1000 The accuracy is : 0.4027777777777778\n"
     ]
    }
   ],
   "source": [
    "from sklearn.ensemble import AdaBoostClassifier\n",
    "from sklearn.tree import DecisionTreeClassifier\n",
    "\n",
    "range_T = [50, 100, 200, 500, 1000]\n",
    "\n",
    "\n",
    "\n",
    "\n",
    "for t_ in range_T:\n",
    "    clf = AdaBoostClassifier(DecisionTreeClassifier(max_depth=2), n_estimators=t_, random_state=0)\n",
    "    clf.fit(X_train, y_train)\n",
    "    y_pred = clf.predict(X_test)\n",
    "    acc = accuracy_score(y_test, y_pred)\n",
    "    print(\n",
    "        \"For max_depth = 2 and t =\",\n",
    "        t_,\n",
    "        \"The accuracy is :\",\n",
    "        acc,\n",
    "    )\n",
    "\n",
    "\n",
    "for t_ in range_T:\n",
    "    clf = AdaBoostClassifier(DecisionTreeClassifier(max_depth=3), n_estimators=t_, random_state=0)\n",
    "    clf.fit(X_train, y_train)\n",
    "    y_pred = clf.predict(X_test)\n",
    "    acc = accuracy_score(y_test, y_pred)\n",
    "    print(\n",
    "        \"For max_depth = 3 and t =\",\n",
    "        t_,\n",
    "        \"The accuracy is :\",\n",
    "        acc,\n",
    "    )\n",
    "\n",
    "\n",
    "for t_ in range_T:\n",
    "    clf = AdaBoostClassifier(DecisionTreeClassifier(max_depth=4), n_estimators=t_, random_state=0)\n",
    "    clf.fit(X_train, y_train)\n",
    "    y_pred = clf.predict(X_test)\n",
    "    acc = accuracy_score(y_test, y_pred)\n",
    "    print(\n",
    "        \"For max_depth = 4 and t =\",\n",
    "        t_,\n",
    "        \"The accuracy is :\",\n",
    "        acc,\n",
    "    )\n",
    "\n",
    "\n",
    "for t_ in range_T:\n",
    "    clf = AdaBoostClassifier(DecisionTreeClassifier(max_depth=5), n_estimators=t_, random_state=0)\n",
    "    clf.fit(X_train, y_train)\n",
    "    y_pred = clf.predict(X_test)\n",
    "    acc = accuracy_score(y_test, y_pred)\n",
    "    print(\n",
    "        \"For max_depth = 5 and t =\",\n",
    "        t_,\n",
    "        \"The accuracy is :\",\n",
    "        acc,\n",
    "    )\n",
    "\n",
    "for t_ in range_T:\n",
    "    clf = AdaBoostClassifier(DecisionTreeClassifier(max_depth=6), n_estimators=t_, random_state=0)\n",
    "    clf.fit(X_train, y_train)\n",
    "    y_pred = clf.predict(X_test)\n",
    "    acc = accuracy_score(y_test, y_pred)\n",
    "    print(\n",
    "        \"For max_depth = 6 and t =\",\n",
    "        t_,\n",
    "        \"The accuracy is :\",\n",
    "        acc,\n",
    "    )\n",
    "\n",
    "for t_ in range_T:\n",
    "    clf = AdaBoostClassifier(DecisionTreeClassifier(max_depth=7), n_estimators=t_, random_state=0)\n",
    "    clf.fit(X_train, y_train)\n",
    "    y_pred = clf.predict(X_test)\n",
    "    acc = accuracy_score(y_test, y_pred)\n",
    "    print(\n",
    "        \"For max_depth = 7 and t =\",\n",
    "        t_,\n",
    "        \"The accuracy is :\",\n",
    "        acc,\n",
    "    )\n",
    "\n",
    "\n",
    "for t_ in range_T:\n",
    "    clf = AdaBoostClassifier(DecisionTreeClassifier(max_depth=8), n_estimators=t_, random_state=0)\n",
    "    clf.fit(X_train, y_train)\n",
    "    y_pred = clf.predict(X_test)\n",
    "    acc = accuracy_score(y_test, y_pred)\n",
    "    print(\n",
    "        \"For max_depth = 8 and t =\",\n",
    "        t_,\n",
    "        \"The accuracy is :\",\n",
    "        acc,\n",
    "    )\n"
   ]
  },
  {
   "cell_type": "code",
   "execution_count": 123,
   "metadata": {},
   "outputs": [
    {
     "name": "stdout",
     "output_type": "stream",
     "text": [
      "Clasification report\n",
      "              precision    recall  f1-score   support\n",
      "\n",
      "           0       0.67      0.45      0.54        22\n",
      "           1       0.56      0.83      0.67        23\n",
      "           2       0.83      0.70      0.76        27\n",
      "\n",
      "    accuracy                           0.67        72\n",
      "   macro avg       0.68      0.66      0.66        72\n",
      "weighted avg       0.69      0.67      0.66        72\n",
      "\n"
     ]
    }
   ],
   "source": [
    "ada = AdaBoostClassifier(DecisionTreeClassifier(max_depth=2), n_estimators=100, random_state=0)\n",
    "\n",
    "ada.fit(X_train, y_train)\n",
    "\n",
    "predicted_ada = ada.predict(X_test)\n",
    "print(\"Clasification report\")\n",
    "print(classification_report(y_test, predicted_ada))"
   ]
  },
  {
   "cell_type": "code",
   "execution_count": 124,
   "metadata": {},
   "outputs": [
    {
     "name": "stdout",
     "output_type": "stream",
     "text": [
      "Normalized confusion matrix\n"
     ]
    },
    {
     "data": {
      "image/png": "[encoded data removed]",
      "text/plain": [
       "<Figure size 360x360 with 2 Axes>"
      ]
     },
     "metadata": {
      "needs_background": "light"
     },
     "output_type": "display_data"
    }
   ],
   "source": [
    "cnf_matrix = confusion_matrix(y_test, predicted_ada)\n",
    "np.set_printoptions(precision=2)\n",
    "# Plot normalized confusion matrix\n",
    "plt.figure(figsize=(5,5))\n",
    "plot_confusion_matrix(cnf_matrix, classes=classes, normalize=True, title='Normalized confusion matrix')\n",
    "\n",
    "plt.show()"
   ]
  },
  {
   "cell_type": "markdown",
   "metadata": {},
   "source": [
    "# Modelo 5: MLP"
   ]
  },
  {
   "cell_type": "code",
   "execution_count": 167,
   "metadata": {},
   "outputs": [
    {
     "name": "stdout",
     "output_type": "stream",
     "text": [
      "Model: \"sequential_5\"\n",
      "_________________________________________________________________\n",
      " Layer (type)                Output Shape              Param #   \n",
      "=================================================================\n",
      " dense_15 (Dense)            (None, 64)                3648      \n",
      "                                                                 \n",
      " dense_16 (Dense)            (None, 32)                2080      \n",
      "                                                                 \n",
      " dense_17 (Dense)            (None, 3)                 99        \n",
      "                                                                 \n",
      "=================================================================\n",
      "Total params: 5827 (22.76 KB)\n",
      "Trainable params: 5827 (22.76 KB)\n",
      "Non-trainable params: 0 (0.00 Byte)\n",
      "_________________________________________________________________\n"
     ]
    }
   ],
   "source": [
    "import tensorflow as tf\n",
    "import tensorflow.keras as keras\n",
    "from tensorflow.keras.models import Sequential\n",
    "from tensorflow.keras.layers import Dense, Activation, Dropout, Input, Embedding, Concatenate\n",
    "from tensorflow.keras.models import Model\n",
    "\n",
    "mlp = Sequential([\n",
    "    Input(shape = X_train[0].shape[0]),\n",
    "    Dense(64, activation = \"relu\"),\n",
    "    Dense(32, activation= \"relu\"),\n",
    "    Dense(3, activation = \"softmax\")\n",
    "])\n",
    "\n",
    "mlp.summary()"
   ]
  },
  {
   "cell_type": "code",
   "execution_count": 173,
   "metadata": {},
   "outputs": [],
   "source": [
    "X_train2, X_val, y_train2, y_val = train_test_split(X_train, y_train, test_size=0.25, random_state=3) # Conjunto de validación = 0.8*0.25 = 0.2, este valor es estándar para validación\n",
    "\n",
    "y_train2 = keras.utils.to_categorical(y_train2, 3)\n",
    "y_val = keras.utils.to_categorical(y_val, 3)\n",
    "y_test = keras.utils.to_categorical(y_test, 3)"
   ]
  },
  {
   "cell_type": "code",
   "execution_count": 175,
   "metadata": {},
   "outputs": [
    {
     "name": "stdout",
     "output_type": "stream",
     "text": [
      "Epoch 1/10\n",
      "4/4 [==============================] - 1s 55ms/step - loss: 0.9013 - accuracy: 0.6111 - val_loss: 1.0476 - val_accuracy: 0.4524\n",
      "Epoch 2/10\n",
      "4/4 [==============================] - 0s 10ms/step - loss: 0.8756 - accuracy: 0.6429 - val_loss: 1.0358 - val_accuracy: 0.4762\n",
      "Epoch 3/10\n",
      "4/4 [==============================] - 0s 9ms/step - loss: 0.8682 - accuracy: 0.6429 - val_loss: 1.0364 - val_accuracy: 0.4524\n",
      "Epoch 4/10\n",
      "4/4 [==============================] - 0s 9ms/step - loss: 0.8474 - accuracy: 0.6508 - val_loss: 1.0257 - val_accuracy: 0.4286\n",
      "Epoch 5/10\n",
      "4/4 [==============================] - 0s 10ms/step - loss: 0.8353 - accuracy: 0.6429 - val_loss: 1.0217 - val_accuracy: 0.4524\n",
      "Epoch 6/10\n",
      "4/4 [==============================] - 0s 10ms/step - loss: 0.8226 - accuracy: 0.6667 - val_loss: 1.0289 - val_accuracy: 0.4524\n",
      "Epoch 7/10\n",
      "4/4 [==============================] - 0s 10ms/step - loss: 0.8116 - accuracy: 0.6667 - val_loss: 1.0219 - val_accuracy: 0.4524\n",
      "Epoch 8/10\n",
      "4/4 [==============================] - 0s 10ms/step - loss: 0.7993 - accuracy: 0.6667 - val_loss: 1.0193 - val_accuracy: 0.4762\n",
      "Epoch 9/10\n",
      "4/4 [==============================] - 0s 9ms/step - loss: 0.7914 - accuracy: 0.6746 - val_loss: 1.0070 - val_accuracy: 0.4762\n",
      "Epoch 10/10\n",
      "4/4 [==============================] - 0s 9ms/step - loss: 0.7782 - accuracy: 0.6825 - val_loss: 1.0030 - val_accuracy: 0.5000\n"
     ]
    },
    {
     "data": {
      "text/plain": [
       "<keras.src.callbacks.History at 0x270da39e4c0>"
      ]
     },
     "execution_count": 175,
     "metadata": {},
     "output_type": "execute_result"
    }
   ],
   "source": [
    "mlp.compile(loss='categorical_crossentropy', optimizer='adam', metrics=['accuracy'])  # Ajusta la función de pérdida según el tipo de problema categorical es para multi clases\n",
    "mlp.fit(X_train2, y_train2, batch_size=32, epochs=10, validation_data=(X_val, y_val))"
   ]
  },
  {
   "cell_type": "code",
   "execution_count": 184,
   "metadata": {},
   "outputs": [
    {
     "name": "stdout",
     "output_type": "stream",
     "text": [
      "3/3 [==============================] - 0s 2ms/step\n"
     ]
    }
   ],
   "source": [
    "predicted_mlp = mlp.predict(X_test)\n",
    "predicted_mlp = [np.argmax(x) for x in predicted_mlp]\n",
    "y_test = [np.argmax(x) for x in y_test]"
   ]
  },
  {
   "cell_type": "code",
   "execution_count": 185,
   "metadata": {},
   "outputs": [
    {
     "name": "stdout",
     "output_type": "stream",
     "text": [
      "Clasification report\n",
      "              precision    recall  f1-score   support\n",
      "\n",
      "           0       0.00      0.00      0.00        22\n",
      "           1       0.51      0.83      0.63        23\n",
      "           2       0.54      0.70      0.61        27\n",
      "\n",
      "    accuracy                           0.53        72\n",
      "   macro avg       0.35      0.51      0.42        72\n",
      "weighted avg       0.37      0.53      0.43        72\n",
      "\n"
     ]
    },
    {
     "name": "stderr",
     "output_type": "stream",
     "text": [
      "c:\\Users\\Diego\\AppData\\Local\\Programs\\Python\\Python38\\lib\\site-packages\\sklearn\\metrics\\_classification.py:1344: UndefinedMetricWarning: Precision and F-score are ill-defined and being set to 0.0 in labels with no predicted samples. Use `zero_division` parameter to control this behavior.\n",
      "  _warn_prf(average, modifier, msg_start, len(result))\n",
      "c:\\Users\\Diego\\AppData\\Local\\Programs\\Python\\Python38\\lib\\site-packages\\sklearn\\metrics\\_classification.py:1344: UndefinedMetricWarning: Precision and F-score are ill-defined and being set to 0.0 in labels with no predicted samples. Use `zero_division` parameter to control this behavior.\n",
      "  _warn_prf(average, modifier, msg_start, len(result))\n",
      "c:\\Users\\Diego\\AppData\\Local\\Programs\\Python\\Python38\\lib\\site-packages\\sklearn\\metrics\\_classification.py:1344: UndefinedMetricWarning: Precision and F-score are ill-defined and being set to 0.0 in labels with no predicted samples. Use `zero_division` parameter to control this behavior.\n",
      "  _warn_prf(average, modifier, msg_start, len(result))\n"
     ]
    }
   ],
   "source": [
    "print(\"Clasification report\")\n",
    "print(classification_report(y_test, predicted_mlp))"
   ]
  },
  {
   "cell_type": "code",
   "execution_count": 186,
   "metadata": {},
   "outputs": [
    {
     "name": "stdout",
     "output_type": "stream",
     "text": [
      "Normalized confusion matrix\n"
     ]
    },
    {
     "data": {
      "image/png": "[encoded data removed]",
      "text/plain": [
       "<Figure size 360x360 with 2 Axes>"
      ]
     },
     "metadata": {
      "needs_background": "light"
     },
     "output_type": "display_data"
    }
   ],
   "source": [
    "cnf_matrix = confusion_matrix(y_test, predicted_mlp)\n",
    "np.set_printoptions(precision=2)\n",
    "# Plot normalized confusion matrix\n",
    "plt.figure(figsize=(5,5))\n",
    "plot_confusion_matrix(cnf_matrix, classes=classes, normalize=True, title='Normalized confusion matrix')\n",
    "\n",
    "plt.show()"
   ]
  },
  {
   "cell_type": "code",
   "execution_count": null,
   "metadata": {},
   "outputs": [],
   "source": []
  }
 ],
 "metadata": {
  "kernelspec": {
   "display_name": "Python 3",
   "language": "python",
   "name": "python3"
  },
  "language_info": {
   "codemirror_mode": {
    "name": "ipython",
    "version": 3
   },
   "file_extension": ".py",
   "mimetype": "text/x-python",
   "name": "python",
   "nbconvert_exporter": "python",
   "pygments_lexer": "ipython3",
   "version": "3.8.10"
  }
 },
 "nbformat": 4,
 "nbformat_minor": 2
}
